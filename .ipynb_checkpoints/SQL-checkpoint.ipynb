{
 "cells": [
  {
   "cell_type": "code",
   "execution_count": 196,
   "metadata": {},
   "outputs": [],
   "source": [
    "from ttkwidgets.autocomplete import AutocompleteCombobox\n",
    "import pandas as pd\n",
    "import sqlite3\n",
    "import tkinter as tk\n",
    "from tkinter import *\n",
    "from tkinter import ttk\n",
    "from tkinter.ttk import *\n",
    "from sqlalchemy import create_engine\n",
    "\n",
    "conn = sqlite3.connect('anla.db')\n",
    "\n",
    "anla = pd.read_csv(\"diccionario.csv\", sep = \";\",encoding = \"ISO-8859-1\")\n",
    "anla[\"COMPONENTE\"] = anla[\"COMPONENTE\"].str.replace(\"<<\", \"\").str.replace(\">>\", \"\")\n",
    "anla = anla.loc[anla[\"CÓDIGO\"] != \"R\"]\n",
    "#anla.to_sql('diccionario_nuevo', con=conn, index=False)\n",
    "\n",
    "\n"
   ]
  },
  {
   "cell_type": "code",
   "execution_count": null,
   "metadata": {},
   "outputs": [],
   "source": []
  },
  {
   "cell_type": "code",
   "execution_count": null,
   "metadata": {},
   "outputs": [],
   "source": [
    "\n",
    "class Interfaz(object):\n",
    "    def __init__(self, root):\n",
    "        self.root = root\n",
    "        self.root.title(\"Programa base de datos Anla\")\n",
    "        self.canvas = tk.Canvas(self.root, height = 400, width =700)\n",
    "        self.canvas.pack()\n",
    "        self.frame = tk.Frame(self.root, bg = \"#20CDC8\")\n",
    "        self.frame.place(relheight = 1, relwidth= 1)\n",
    "        #self.desplegable = ttk.Combobox(self.frame, height = 10, textvariable = StringVar, values = self.combo())\n",
    "        #self.desplegable.place(relheight = 0.05, relwidth = 0.65, relx = 0.2, rely = 0.08)\n",
    "        self.autocompletar = AutocompleteCombobox(self.frame, completevalues = self.combo())\n",
    "        self.autocompletar.place(relheight = 0.05, relwidth = 0.65, relx = 0.2, rely = 0.08)\n",
    "        self.boton = tk.Button(self.frame, text = \"Agregar Componente\", bg = \"#4CE37C\", bd = 0.5, command = self.adicionar_componentes)\n",
    "        self.boton.place(relheight = 0.07, relwidth = 0.18, relx = 0.018, rely = 0.08)\n",
    "        #self.new_frame = tk.Frame(self.frame, bd = 2, bg = \"white\")\n",
    "        #self.new_frame.place(relheight = 0.65, relwidth = 0.7, relx = 0.15, rely = 0.3)\n",
    "        \n",
    "        self.style = ttk.Style()\n",
    "        self.style.configure(\"Treeview.Heading\", font=(None, 12))\n",
    "        \n",
    "        self.arbol = ttk.Treeview(self.frame, height = 5)\n",
    "        self.arbol.place(relheight = 0.65, relwidth = 0.7, relx = 0.15, rely = 0.3)\n",
    "        self.arbol.heading('#0', text = 'COMPONENTES SELECCIONADOS', anchor = CENTER)\n",
    "        \n",
    "    \n",
    "    def combo(self):\n",
    "        conn = sqlite3.connect(\"anla.db\")\n",
    "        c = conn.cursor()\n",
    "        lista_nueva = c.execute(\"SELECT DISTINCT COMPONENTE FROM diccionario_nuevo WHERE CÓDIGO != 'T' ORDER BY COMPONENTE\")\n",
    "        vacio = []\n",
    "        for componente in lista_nueva:\n",
    "            vacio.append(componente[0])\n",
    "        return vacio\n",
    "    \n",
    "    def adicionar_componentes(self):\n",
    "        return self.autocompletar.get()\n",
    "    \n",
    "    \n",
    "root = Tk()\n",
    "C = Interfaz(root)\n",
    "\n",
    "root.mainloop()"
   ]
  },
  {
   "cell_type": "code",
   "execution_count": 233,
   "metadata": {},
   "outputs": [
    {
     "name": "stdout",
     "output_type": "stream",
     "text": [
      "ANALISIS_RIESGO\n"
     ]
    }
   ],
   "source": []
  },
  {
   "cell_type": "code",
   "execution_count": 188,
   "metadata": {},
   "outputs": [],
   "source": []
  },
  {
   "cell_type": "code",
   "execution_count": null,
   "metadata": {},
   "outputs": [],
   "source": []
  }
 ],
 "metadata": {
  "kernelspec": {
   "display_name": "Python 3",
   "language": "python",
   "name": "python3"
  },
  "language_info": {
   "codemirror_mode": {
    "name": "ipython",
    "version": 3
   },
   "file_extension": ".py",
   "mimetype": "text/x-python",
   "name": "python",
   "nbconvert_exporter": "python",
   "pygments_lexer": "ipython3",
   "version": "3.7.4"
  }
 },
 "nbformat": 4,
 "nbformat_minor": 2
}
